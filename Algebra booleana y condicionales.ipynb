{
 "cells": [
  {
   "cell_type": "markdown",
   "id": "6f9c6bc5",
   "metadata": {},
   "source": [
    "# Actividad Instcrucciones de control"
   ]
  },
  {
   "cell_type": "code",
   "execution_count": 6,
   "id": "015f95c9",
   "metadata": {
    "scrolled": true
   },
   "outputs": [
    {
     "name": "stdout",
     "output_type": "stream",
     "text": [
      "Ingrese el número de horas trabajadas por semana: 65\n",
      "Ingrese la tarifa de pago por hora: 15\n"
     ]
    }
   ],
   "source": [
    "try:\n",
    "    horas_trabajadas = float(input('Ingrese el número de horas trabajadas por semana: '))\n",
    "    tarifa_por_hora = float(input('Ingrese la tarifa de pago por hora: '))\n",
    "except ValueError:\n",
    "    print(\"Valores incorrectos. Por favor, ingrese valores numéricos y positivos.\")\n",
    "pago1 = 0  # Inicializar las variables\n",
    "pago2 = 0\n",
    "pago3 = 0"
   ]
  },
  {
   "cell_type": "code",
   "execution_count": 7,
   "id": "b94328ea",
   "metadata": {},
   "outputs": [
    {
     "name": "stdout",
     "output_type": "stream",
     "text": [
      "El total a pagar es $1035.0\n"
     ]
    }
   ],
   "source": [
    "if horas_trabajadas <= 40: \n",
    "    pago1 = horas_trabajadas * tarifa_por_hora\n",
    "    print(pago1)\n",
    "elif horas_trabajadas <= 50:\n",
    "    hr_base = 40\n",
    "    hr_extra1 = horas_trabajadas - hr_base # obtenemos las horas extras por encima de 40 prtmo menor o igual de 50 horas\n",
    "    pago2 = (hr_base * tarifa_por_hora + hr_extra1 * (tarifa_por_hora * 1.1))\n",
    "    #print(pago2)\n",
    "elif horas_trabajadas > 50:\n",
    "    hr_base = 40\n",
    "    hr_base2 = 10\n",
    "    hr_extra2 = horas_trabajadas - (hr_base + hr_base2) # obtenemos las horas extras por encima de 50 horas\n",
    "    pago3 = (hr_base * tarifa_por_hora + hr_base2 * (tarifa_por_hora * 1.1) + hr_extra2 * (tarifa_por_hora * 1.2))\n",
    "    #print(pago3)\n",
    "total_a_pagar = (pago1 + pago2 + pago3)\n",
    "print(f'El total a pagar es ${total_a_pagar:}')"
   ]
  },
  {
   "cell_type": "code",
   "execution_count": 54,
   "id": "0589d0c9",
   "metadata": {},
   "outputs": [],
   "source": []
  }
 ],
 "metadata": {
  "kernelspec": {
   "display_name": "Python 3 (ipykernel)",
   "language": "python",
   "name": "python3"
  },
  "language_info": {
   "codemirror_mode": {
    "name": "ipython",
    "version": 3
   },
   "file_extension": ".py",
   "mimetype": "text/x-python",
   "name": "python",
   "nbconvert_exporter": "python",
   "pygments_lexer": "ipython3",
   "version": "3.11.5"
  }
 },
 "nbformat": 4,
 "nbformat_minor": 5
}
